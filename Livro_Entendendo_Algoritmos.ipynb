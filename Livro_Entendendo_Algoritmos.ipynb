{
  "nbformat": 4,
  "nbformat_minor": 0,
  "metadata": {
    "colab": {
      "provenance": [],
      "toc_visible": true,
      "authorship_tag": "ABX9TyOl0Ob7YcQu06ieM8RFTLJT",
      "include_colab_link": true
    },
    "kernelspec": {
      "name": "python3",
      "display_name": "Python 3"
    },
    "language_info": {
      "name": "python"
    }
  },
  "cells": [
    {
      "cell_type": "markdown",
      "metadata": {
        "id": "view-in-github",
        "colab_type": "text"
      },
      "source": [
        "<a href=\"https://colab.research.google.com/github/andersonmarquesgit/algoritmos-colab/blob/main/Livro_Entendendo_Algoritmos.ipynb\" target=\"_parent\"><img src=\"https://colab.research.google.com/assets/colab-badge.svg\" alt=\"Open In Colab\"/></a>"
      ]
    },
    {
      "cell_type": "markdown",
      "source": [
        "# Pesquisa Binária"
      ],
      "metadata": {
        "id": "4wDAwtuRy9Vb"
      }
    },
    {
      "cell_type": "markdown",
      "source": [
        "A função pesquisa_binaria pega um array ordenado e um item. Se o item está no array, a função retorna sua posição. Dessa maneira, você é capaz de saber por qual ponto do array deve continuar procurando."
      ],
      "metadata": {
        "id": "382fz1-H1nK2"
      }
    },
    {
      "cell_type": "code",
      "execution_count": 1,
      "metadata": {
        "id": "lqPgnf9_IWAz"
      },
      "outputs": [],
      "source": [
        "def pesquisa_binaria(lista, item):\n",
        "  baixo = 0\n",
        "  alto = len(lista) - 1\n",
        "  while baixo <= alto:\n",
        "    meio = (baixo + alto) // 2\n",
        "    chute = lista[meio]\n",
        "    if chute == item:\n",
        "      return meio\n",
        "    if chute > item:\n",
        "      alto = meio - 1\n",
        "    else:\n",
        "      baixo = meio + 1\n",
        "  return None"
      ]
    },
    {
      "cell_type": "code",
      "source": [
        "minha_lista = [1, 3, 5, 7, 9]\n",
        "print(pesquisa_binaria(minha_lista, 3))\n",
        "print(pesquisa_binaria(minha_lista, -1))"
      ],
      "metadata": {
        "colab": {
          "base_uri": "https://localhost:8080/"
        },
        "id": "n9tYCh5DKPK9",
        "outputId": "c2c1feb4-7934-4395-b236-237b13bbfd94"
      },
      "execution_count": 2,
      "outputs": [
        {
          "output_type": "stream",
          "name": "stdout",
          "text": [
            "1\n",
            "None\n"
          ]
        }
      ]
    }
  ]
}