{
  "nbformat": 4,
  "nbformat_minor": 0,
  "metadata": {
    "colab": {
      "provenance": [],
      "toc_visible": true,
      "authorship_tag": "ABX9TyPbZqh/YLxpJswEKUfdyF/k",
      "include_colab_link": true
    },
    "kernelspec": {
      "name": "python3",
      "display_name": "Python 3"
    },
    "language_info": {
      "name": "python"
    }
  },
  "cells": [
    {
      "cell_type": "markdown",
      "metadata": {
        "id": "view-in-github",
        "colab_type": "text"
      },
      "source": [
        "<a href=\"https://colab.research.google.com/github/andersonmarquesgit/algoritmos-colab/blob/main/Livro_Entendendo_Algoritmos.ipynb\" target=\"_parent\"><img src=\"https://colab.research.google.com/assets/colab-badge.svg\" alt=\"Open In Colab\"/></a>"
      ]
    },
    {
      "cell_type": "markdown",
      "source": [
        "# Pesquisa Binária"
      ],
      "metadata": {
        "id": "4wDAwtuRy9Vb"
      }
    },
    {
      "cell_type": "markdown",
      "source": [
        "A função pesquisa_binaria pega um array ordenado e um item. Se o item está no array, a função retorna sua posição. Dessa maneira, você é capaz de saber por qual ponto do array deve continuar procurando."
      ],
      "metadata": {
        "id": "382fz1-H1nK2"
      }
    },
    {
      "cell_type": "code",
      "execution_count": null,
      "metadata": {
        "id": "lqPgnf9_IWAz"
      },
      "outputs": [],
      "source": [
        "def pesquisa_binaria(lista, item):\n",
        "  baixo = 0\n",
        "  alto = len(lista) - 1\n",
        "  while baixo <= alto:\n",
        "    meio = (baixo + alto) // 2\n",
        "    chute = lista[meio]\n",
        "    if chute == item:\n",
        "      return meio\n",
        "    if chute > item:\n",
        "      alto = meio - 1\n",
        "    else:\n",
        "      baixo = meio + 1\n",
        "  return None"
      ]
    },
    {
      "cell_type": "code",
      "source": [
        "minha_lista = [1, 3, 5, 7, 9]\n",
        "print(pesquisa_binaria(minha_lista, 3))\n",
        "print(pesquisa_binaria(minha_lista, -1))"
      ],
      "metadata": {
        "colab": {
          "base_uri": "https://localhost:8080/"
        },
        "id": "n9tYCh5DKPK9",
        "outputId": "183fc32f-7bbc-4f23-bfed-84bf08bd4057"
      },
      "execution_count": null,
      "outputs": [
        {
          "output_type": "stream",
          "name": "stdout",
          "text": [
            "1\n",
            "None\n"
          ]
        }
      ]
    },
    {
      "cell_type": "markdown",
      "source": [
        "# Ordenação por Seleção"
      ],
      "metadata": {
        "id": "9QPDuPgt9e93"
      }
    },
    {
      "cell_type": "markdown",
      "source": [
        "Aqui precisamos ter compreendido arrays e listas, bem como a notação Big O. Apenas recaptulando:\n",
        "- ***Arrays***: Armazena uma lista de itens um ao lado do outro, de tamanho fixo na memória, ou seja, suponha que seu array tem 5 itens, sabendo que o primeiro está no endereço 00, logo é possível inferir que o quinto elemento está no endereço 04 ---> [00][01][02][03][04]\n",
        "  - Caso precise aumentar a quantidade de itens, será necessário mover esse array para um lugar com mais memória\n",
        "- ***Listas Encadeadas***: Com listas encadeadas seus itens podem estar em qualquer lugar da memória, onde cada item armazena o endereço do próximo.\n",
        "  - Em caso de aumentar o número de elementos, basta apenas endereçá-lo.\n",
        "Nesse ponto vemos algumas notações importantes sobre as duas estruturas:\n",
        "\n",
        "```\n",
        "# --------------------------- #\n",
        "|          | Arrays |  Listas |\n",
        "# --------------------------- #\n",
        "| Leitura  |  O(1)  |   O(n)  |\n",
        "# --------------------------- #\n",
        "| Inserção |  O(n)  |   O(1)  |\n",
        "# --------------------------- #\n",
        "| Deleção  |  O(n)  |   O(1)  |\n",
        "# --------------------------- #\n",
        "```\n",
        "\n",
        "\n"
      ],
      "metadata": {
        "id": "9rVso5aC9q2x"
      }
    },
    {
      "cell_type": "markdown",
      "source": [
        "# **Agora vamos fazer um código para ordenar um array do menor para o maior**\n",
        "- Primeiro precisamos identificar onde está o menor valor:"
      ],
      "metadata": {
        "id": "pzIO1GypDkbT"
      }
    },
    {
      "cell_type": "code",
      "source": [
        "# prompt: buscaMenor(arr)\n",
        "\n",
        "def buscaMenor(arr):\n",
        "  menor = arr[0]\n",
        "  menor_indice = 0\n",
        "  for i in range(1, len(arr)):\n",
        "    if arr[i] < menor:\n",
        "      menor = arr[i]\n",
        "      menor_indice = i\n",
        "  return menor_indice\n"
      ],
      "metadata": {
        "id": "li2A7u6rD0Kz"
      },
      "execution_count": 1,
      "outputs": []
    },
    {
      "cell_type": "code",
      "source": [
        "arr = [45,99,101,89,32]\n",
        "pos = buscaMenor(arr)\n",
        "print(\"O menor elemento está na posição\", pos, \"e seu valor é\", arr[pos])"
      ],
      "metadata": {
        "colab": {
          "base_uri": "https://localhost:8080/"
        },
        "id": "ara3BKqQEItH",
        "outputId": "86f2a927-7e7e-4b12-9f54-7c718a5d016a"
      },
      "execution_count": 4,
      "outputs": [
        {
          "output_type": "stream",
          "name": "stdout",
          "text": [
            "O menor elemento está na posição 4 e seu valor é 32\n"
          ]
        }
      ]
    },
    {
      "cell_type": "markdown",
      "source": [
        "- Agora podemos usar esta função para escrever a ordenação por seleção:"
      ],
      "metadata": {
        "id": "tQuK79RAFezx"
      }
    },
    {
      "cell_type": "code",
      "source": [
        "# prompt: ordenacaoporSelecao(arr) usando o buscaMenor(arr)\n",
        "\n",
        "def ordenacaoPorSelecao(arr):\n",
        "  novoArr = []\n",
        "  for i in range(len(arr)):\n",
        "    menor = buscaMenor(arr)\n",
        "    novoArr.append(arr[menor])\n",
        "    arr.pop(menor)\n",
        "  return novoArr\n",
        "\n",
        "arr = [45,99,101,89,32]\n",
        "print(ordenacaoPorSelecao(arr))\n"
      ],
      "metadata": {
        "colab": {
          "base_uri": "https://localhost:8080/"
        },
        "id": "RwtuT_ooFnVF",
        "outputId": "2fd54636-2c30-49b1-df3f-f14652c2c0de"
      },
      "execution_count": 5,
      "outputs": [
        {
          "output_type": "stream",
          "name": "stdout",
          "text": [
            "[32, 45, 89, 99, 101]\n"
          ]
        }
      ]
    }
  ]
}