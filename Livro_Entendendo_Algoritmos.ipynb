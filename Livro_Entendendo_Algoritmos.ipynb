{
  "nbformat": 4,
  "nbformat_minor": 0,
  "metadata": {
    "colab": {
      "provenance": [],
      "toc_visible": true,
      "authorship_tag": "ABX9TyPPgCliSBhAi11Ro55Ckt4v",
      "include_colab_link": true
    },
    "kernelspec": {
      "name": "python3",
      "display_name": "Python 3"
    },
    "language_info": {
      "name": "python"
    }
  },
  "cells": [
    {
      "cell_type": "markdown",
      "metadata": {
        "id": "view-in-github",
        "colab_type": "text"
      },
      "source": [
        "<a href=\"https://colab.research.google.com/github/andersonmarquesgit/algoritmos-colab/blob/main/Livro_Entendendo_Algoritmos.ipynb\" target=\"_parent\"><img src=\"https://colab.research.google.com/assets/colab-badge.svg\" alt=\"Open In Colab\"/></a>"
      ]
    },
    {
      "cell_type": "markdown",
      "source": [
        "# Pesquisa Binária"
      ],
      "metadata": {
        "id": "4wDAwtuRy9Vb"
      }
    },
    {
      "cell_type": "code",
      "execution_count": null,
      "metadata": {
        "id": "lqPgnf9_IWAz"
      },
      "outputs": [],
      "source": [
        "def pesquisa_binaria(lista, item):\n",
        "  baixo = 0\n",
        "  alto = len(lista) - 1\n",
        "  while baixo <= alto:\n",
        "    meio = (baixo + alto) // 2\n",
        "    chute = lista[meio]\n",
        "    if chute == item:\n",
        "      return meio\n",
        "    if chute > item:\n",
        "      alto = meio - 1\n",
        "    else:\n",
        "      baixo = meio + 1\n",
        "  return None"
      ]
    },
    {
      "cell_type": "code",
      "source": [
        "minha_lista = [1, 3, 5, 7, 9]\n",
        "print(pesquisa_binaria(minha_lista, 3))\n",
        "print(pesquisa_binaria(minha_lista, -1))"
      ],
      "metadata": {
        "colab": {
          "base_uri": "https://localhost:8080/"
        },
        "id": "n9tYCh5DKPK9",
        "outputId": "db55bff1-e67f-4ad1-ae47-b451bd562613"
      },
      "execution_count": null,
      "outputs": [
        {
          "output_type": "stream",
          "name": "stdout",
          "text": [
            "1\n",
            "None\n"
          ]
        }
      ]
    }
  ]
}